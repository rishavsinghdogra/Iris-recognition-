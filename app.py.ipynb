{
 "cells": [
  {
   "cell_type": "code",
   "execution_count": 1,
   "id": "4198a3e5",
   "metadata": {},
   "outputs": [
    {
     "name": "stdout",
     "output_type": "stream",
     "text": [
      "Requirement already satisfied: Flask in c:\\users\\priyanka\\anaconda3\\lib\\site-packages (2.2.2)\n",
      "Requirement already satisfied: Werkzeug>=2.2.2 in c:\\users\\priyanka\\anaconda3\\lib\\site-packages (from Flask) (2.2.3)\n",
      "Requirement already satisfied: Jinja2>=3.0 in c:\\users\\priyanka\\anaconda3\\lib\\site-packages (from Flask) (3.1.2)\n",
      "Requirement already satisfied: itsdangerous>=2.0 in c:\\users\\priyanka\\anaconda3\\lib\\site-packages (from Flask) (2.0.1)\n",
      "Requirement already satisfied: click>=8.0 in c:\\users\\priyanka\\anaconda3\\lib\\site-packages (from Flask) (8.0.4)\n",
      "Requirement already satisfied: colorama in c:\\users\\priyanka\\anaconda3\\lib\\site-packages (from click>=8.0->Flask) (0.4.6)\n",
      "Requirement already satisfied: MarkupSafe>=2.0 in c:\\users\\priyanka\\anaconda3\\lib\\site-packages (from Jinja2>=3.0->Flask) (2.1.1)\n",
      "Note: you may need to restart the kernel to use updated packages.\n"
     ]
    }
   ],
   "source": [
    "pip install Flask\n"
   ]
  },
  {
   "cell_type": "code",
   "execution_count": 1,
   "id": "a830709a",
   "metadata": {},
   "outputs": [],
   "source": [
    "from flask import Flask,request,jsonify,render_template\n",
    "import joblib\n",
    "import numpy as np"
   ]
  },
  {
   "cell_type": "code",
   "execution_count": null,
   "id": "096d4bfd",
   "metadata": {},
   "outputs": [],
   "source": []
  },
  {
   "cell_type": "code",
   "execution_count": 2,
   "id": "4b84267c",
   "metadata": {},
   "outputs": [
    {
     "name": "stdout",
     "output_type": "stream",
     "text": [
      " * Serving Flask app '__main__'\n",
      " * Debug mode: off\n"
     ]
    },
    {
     "name": "stderr",
     "output_type": "stream",
     "text": [
      "WARNING: This is a development server. Do not use it in a production deployment. Use a production WSGI server instead.\n",
      " * Running on http://127.0.0.1:5000\n",
      "Press CTRL+C to quit\n",
      "127.0.0.1 - - [06/Nov/2023 10:48:36] \"GET / HTTP/1.1\" 200 -\n",
      "127.0.0.1 - - [06/Nov/2023 10:48:36] \"GET /static/css/styles.css HTTP/1.1\" 304 -\n",
      "127.0.0.1 - - [06/Nov/2023 10:48:36] \"GET /static/images/iris.png HTTP/1.1\" 304 -\n",
      "127.0.0.1 - - [06/Nov/2023 10:48:36] \"GET /static/images/flower.png HTTP/1.1\" 304 -\n",
      "127.0.0.1 - - [06/Nov/2023 10:48:36] \"GET /static/images/versicolor.jpeg HTTP/1.1\" 304 -\n",
      "127.0.0.1 - - [06/Nov/2023 10:48:36] \"GET /static/images/setosa%20copy.jpeg HTTP/1.1\" 304 -\n",
      "127.0.0.1 - - [06/Nov/2023 10:48:36] \"GET /static/images/virginica.jpeg HTTP/1.1\" 304 -\n",
      "127.0.0.1 - - [06/Nov/2023 10:48:36] \"GET /favicon.ico HTTP/1.1\" 404 -\n",
      "127.0.0.1 - - [06/Nov/2023 10:48:58] \"POST /predict HTTP/1.1\" 200 -\n"
     ]
    }
   ],
   "source": [
    "\n",
    "\n",
    "app = Flask(__name__)\n",
    "model = joblib.load('iris_model.pkl')\n",
    "\n",
    "@app.route('/')\n",
    "def home():\n",
    "    return render_template('index.html')\n",
    "    \n",
    "    \n",
    "\n",
    "@app.route(\"/predict\", methods=['POST'])\n",
    "def predict():\n",
    "    try:\n",
    "        sepL = float(request.form['sepal_length'])\n",
    "        sepW = float(request.form['sepal_width'])\n",
    "        petL = float(request.form['petal_length'])\n",
    "        petW = float(request.form['petal_width'])\n",
    "        features = np.array([[sepL, sepW, petL, petW]])\n",
    "        prediction = model.predict(features)\n",
    "        if (prediction==0):\n",
    "             return \"Predicted Iris Species is Setosa\"\n",
    "        if (prediction==1):\n",
    "            return \"Predicted Iris Species is versicolor\"\n",
    "        if(prediction==2):\n",
    "            return \"Predicted Iris Species is viriginca\"\n",
    "        \n",
    "    except Exception as e:\n",
    "        return f'Error: {str(e)}'\n",
    "\n",
    "if __name__ == '__main__':\n",
    "    app.run()\n"
   ]
  },
  {
   "cell_type": "code",
   "execution_count": 3,
   "id": "daf4a296",
   "metadata": {},
   "outputs": [
    {
     "name": "stdout",
     "output_type": "stream",
     "text": [
      "hello world\n"
     ]
    }
   ],
   "source": [
    "print(\"hello world\")"
   ]
  },
  {
   "cell_type": "code",
   "execution_count": null,
   "id": "fc5f3c3f",
   "metadata": {},
   "outputs": [],
   "source": []
  }
 ],
 "metadata": {
  "kernelspec": {
   "display_name": "Python 3 (ipykernel)",
   "language": "python",
   "name": "python3"
  },
  "language_info": {
   "codemirror_mode": {
    "name": "ipython",
    "version": 3
   },
   "file_extension": ".py",
   "mimetype": "text/x-python",
   "name": "python",
   "nbconvert_exporter": "python",
   "pygments_lexer": "ipython3",
   "version": "3.11.3"
  }
 },
 "nbformat": 4,
 "nbformat_minor": 5
}
